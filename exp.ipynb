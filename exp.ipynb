{
 "cells": [
  {
   "cell_type": "code",
   "execution_count": 1,
   "metadata": {},
   "outputs": [],
   "source": [
    "from LMAEmbedding import LMAEmbedding\n",
    "import torch  \n",
    "import torch.nn  \n",
    "import torch.nn as nn\n",
    "import numpy as np"
   ]
  },
  {
   "cell_type": "code",
   "execution_count": 2,
   "metadata": {},
   "outputs": [
    {
     "name": "stdout",
     "output_type": "stream",
     "text": [
      "[single]Potential Memory Usage:  80 memory available 10.0\n",
      "[total ]Potential Memory Usage:  80 memory available 10\n",
      "RandomNumbers:  tensor([2038074743, 1791095845,  946286476, 1857819720,     491263])\n",
      "LMAEmbedding: input_dim:  10  embedding_dim: 10 rep: 1 chunk_size: 2  bits_per_chunk: 4 lsh_mode: srp  seed: 1  lsh matrix torch.Size([10, 1, 20]) memory_size: 10 array_size: 10.0\n"
     ]
    }
   ],
   "source": [
    "lsh_size = 10\n",
    "input_dim = 10\n",
    "embedding_dim = 10\n",
    "bits_per_chunk = 4 # controls the probability of collison\n",
    "chunk_size = 2\n",
    "num_chunks = embedding_dim / chunk_size\n",
    "num_rep = 1\n",
    "\n",
    "_weight = nn.Parameter(torch.from_numpy(-1 + 2 * np.random.binomial(1, 0.5, size=((lsh_size,))).astype(np.float32)))\n",
    "#_weight = nn.Parameter(torch.from_numpy(np.arange(lsh_size).astype(np.float32)))\n",
    "emb = LMAEmbedding(input_dim, embedding_dim, chunk_size, bits_per_chunk, num_rep, _weight, seed=1)"
   ]
  },
  {
   "cell_type": "code",
   "execution_count": 3,
   "metadata": {},
   "outputs": [],
   "source": [
    "emb = emb.to(0)\n",
    "torch.manual_seed(1)\n",
    "inp = torch.rand(1,input_dim).to(\"cuda:0\")\n",
    "#inp[1] = inp[0]\n",
    "#inp[1][-5:] = 0"
   ]
  },
  {
   "cell_type": "code",
   "execution_count": 4,
   "metadata": {},
   "outputs": [
    {
     "data": {
      "text/plain": [
       "tensor([[0.7576, 0.2793, 0.4031, 0.7347, 0.0293, 0.7999, 0.3971, 0.7544, 0.5695,\n",
       "         0.4388]], device='cuda:0')"
      ]
     },
     "execution_count": 4,
     "metadata": {},
     "output_type": "execute_result"
    }
   ],
   "source": [
    "inp"
   ]
  },
  {
   "cell_type": "code",
   "execution_count": 8,
   "metadata": {},
   "outputs": [
    {
     "data": {
      "text/plain": [
       "tensor([[ 1.,  1.,  1.,  1.,  1., -1.,  1.,  1.,  1.,  1.]], device='cuda:0',\n",
       "       grad_fn=<LMAEmbeddingFunctionBackward>)"
      ]
     },
     "execution_count": 8,
     "metadata": {},
     "output_type": "execute_result"
    }
   ],
   "source": [
    "y = emb(inp)\n",
    "y"
   ]
  },
  {
   "cell_type": "code",
   "execution_count": 7,
   "metadata": {},
   "outputs": [],
   "source": [
    "loss = torch.norm(y)"
   ]
  },
  {
   "cell_type": "code",
   "execution_count": 9,
   "metadata": {},
   "outputs": [],
   "source": [
    "loss.backward()"
   ]
  },
  {
   "cell_type": "code",
   "execution_count": 10,
   "metadata": {},
   "outputs": [
    {
     "data": {
      "text/plain": [
       "tensor([ 0.0000,  0.6325,  0.6325,  0.3162,  0.3162,  0.3162,  0.3162,  0.3162,\n",
       "        -0.3162,  0.0000], device='cuda:0')"
      ]
     },
     "execution_count": 10,
     "metadata": {},
     "output_type": "execute_result"
    }
   ],
   "source": [
    "_weight.grad"
   ]
  },
  {
   "cell_type": "code",
   "execution_count": 7,
   "metadata": {},
   "outputs": [
    {
     "data": {
      "text/plain": [
       "tensor(1., device='cuda:0', grad_fn=<DivBackward0>)"
      ]
     },
     "execution_count": 7,
     "metadata": {},
     "output_type": "execute_result"
    }
   ],
   "source": [
    "torch.dot(y[0], y[1]) / (1.0 * y.shape[1])"
   ]
  },
  {
   "cell_type": "code",
   "execution_count": 8,
   "metadata": {},
   "outputs": [
    {
     "name": "stdout",
     "output_type": "stream",
     "text": [
      "pc tensor(0.8549, device='cuda:0')\n",
      "collison prob tensor(0.5342, device='cuda:0')\n"
     ]
    }
   ],
   "source": [
    "pc = 1 - torch.acos(torch.dot(inp[0], inp[1]) / torch.sqrt(torch.dot(inp[0], inp[0]) * (torch.dot(inp[1], inp[1]))))/ 3.14\n",
    "print(\"pc\", pc)\n",
    "print(\"collison prob\", pc**bits_per_chunk)"
   ]
  },
  {
   "cell_type": "code",
   "execution_count": 9,
   "metadata": {},
   "outputs": [],
   "source": [
    "out = emb(inp)"
   ]
  },
  {
   "cell_type": "code",
   "execution_count": 10,
   "metadata": {},
   "outputs": [
    {
     "name": "stdout",
     "output_type": "stream",
     "text": [
      "cosine sim tensor(622390., device='cuda:0', grad_fn=<DivBackward0>)\n",
      "equal % tensor(0., device='cuda:0')\n"
     ]
    }
   ],
   "source": [
    "print(\"cosine sim\", torch.dot(out[0], out[1]) / embedding_dim)\n",
    "print(\"equal %\", torch.sum(out[0] == out[1])/(1.0 * embedding_dim))"
   ]
  },
  {
   "cell_type": "code",
   "execution_count": 11,
   "metadata": {},
   "outputs": [
    {
     "data": {
      "text/plain": [
       "tensor([776., 777., 778., 779., 776., 777., 778., 779., 776., 777., 778., 779.,\n",
       "        776., 777., 778., 779., 776., 777., 778., 779., 776., 777., 778., 779.,\n",
       "        776., 777., 778., 779., 776., 777., 778., 779., 776., 777., 778., 779.,\n",
       "        776., 777., 778., 779., 776., 777., 778., 779., 776., 777., 778., 779.],\n",
       "       device='cuda:0', grad_fn=<SelectBackward>)"
      ]
     },
     "execution_count": 11,
     "metadata": {},
     "output_type": "execute_result"
    }
   ],
   "source": [
    "out[0]"
   ]
  },
  {
   "cell_type": "code",
   "execution_count": 12,
   "metadata": {},
   "outputs": [
    {
     "data": {
      "text/plain": [
       "tensor([799., 800., 801., 802., 799., 800., 801., 802., 799., 800., 801., 802.,\n",
       "        799., 800., 801., 802., 799., 800., 801., 802., 799., 800., 801., 802.,\n",
       "        799., 800., 801., 802., 799., 800., 801., 802., 799., 800., 801., 802.,\n",
       "        799., 800., 801., 802., 799., 800., 801., 802., 799., 800., 801., 802.],\n",
       "       device='cuda:0', grad_fn=<SelectBackward>)"
      ]
     },
     "execution_count": 12,
     "metadata": {},
     "output_type": "execute_result"
    }
   ],
   "source": [
    "out[1]"
   ]
  },
  {
   "cell_type": "code",
   "execution_count": null,
   "metadata": {},
   "outputs": [],
   "source": []
  }
 ],
 "metadata": {
  "kernelspec": {
   "display_name": "Python 3",
   "language": "python",
   "name": "python3"
  },
  "language_info": {
   "codemirror_mode": {
    "name": "ipython",
    "version": 3
   },
   "file_extension": ".py",
   "mimetype": "text/x-python",
   "name": "python",
   "nbconvert_exporter": "python",
   "pygments_lexer": "ipython3",
   "version": "3.8.3"
  }
 },
 "nbformat": 4,
 "nbformat_minor": 4
}
